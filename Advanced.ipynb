{
 "cells": [
  {
   "cell_type": "code",
   "execution_count": 1,
   "metadata": {
    "slideshow": {
     "slide_type": "skip"
    }
   },
   "outputs": [],
   "source": [
    "import pandas as pd\n",
    "import numpy as np\n",
    "import seaborn as sns\n",
    "import matplotlib.pyplot as plt"
   ]
  },
  {
   "cell_type": "code",
   "execution_count": 2,
   "metadata": {
    "slideshow": {
     "slide_type": "skip"
    }
   },
   "outputs": [
    {
     "data": {
      "text/html": [
       "<div>\n",
       "<style scoped>\n",
       "    .dataframe tbody tr th:only-of-type {\n",
       "        vertical-align: middle;\n",
       "    }\n",
       "\n",
       "    .dataframe tbody tr th {\n",
       "        vertical-align: top;\n",
       "    }\n",
       "\n",
       "    .dataframe thead th {\n",
       "        text-align: right;\n",
       "    }\n",
       "</style>\n",
       "<table border=\"1\" class=\"dataframe\">\n",
       "  <thead>\n",
       "    <tr style=\"text-align: right;\">\n",
       "      <th></th>\n",
       "      <th>gender</th>\n",
       "      <th>race/ethnicity</th>\n",
       "      <th>parental level of education</th>\n",
       "      <th>lunch</th>\n",
       "      <th>test preparation course</th>\n",
       "      <th>math score</th>\n",
       "      <th>reading score</th>\n",
       "      <th>writing score</th>\n",
       "    </tr>\n",
       "  </thead>\n",
       "  <tbody>\n",
       "    <tr>\n",
       "      <th>0</th>\n",
       "      <td>female</td>\n",
       "      <td>group B</td>\n",
       "      <td>bachelor's degree</td>\n",
       "      <td>standard</td>\n",
       "      <td>none</td>\n",
       "      <td>72</td>\n",
       "      <td>72</td>\n",
       "      <td>74</td>\n",
       "    </tr>\n",
       "    <tr>\n",
       "      <th>1</th>\n",
       "      <td>female</td>\n",
       "      <td>group C</td>\n",
       "      <td>some college</td>\n",
       "      <td>standard</td>\n",
       "      <td>completed</td>\n",
       "      <td>69</td>\n",
       "      <td>90</td>\n",
       "      <td>88</td>\n",
       "    </tr>\n",
       "    <tr>\n",
       "      <th>2</th>\n",
       "      <td>female</td>\n",
       "      <td>group B</td>\n",
       "      <td>master's degree</td>\n",
       "      <td>standard</td>\n",
       "      <td>none</td>\n",
       "      <td>90</td>\n",
       "      <td>95</td>\n",
       "      <td>93</td>\n",
       "    </tr>\n",
       "    <tr>\n",
       "      <th>3</th>\n",
       "      <td>male</td>\n",
       "      <td>group A</td>\n",
       "      <td>associate's degree</td>\n",
       "      <td>free/reduced</td>\n",
       "      <td>none</td>\n",
       "      <td>47</td>\n",
       "      <td>57</td>\n",
       "      <td>44</td>\n",
       "    </tr>\n",
       "    <tr>\n",
       "      <th>4</th>\n",
       "      <td>male</td>\n",
       "      <td>group C</td>\n",
       "      <td>some college</td>\n",
       "      <td>standard</td>\n",
       "      <td>none</td>\n",
       "      <td>76</td>\n",
       "      <td>78</td>\n",
       "      <td>75</td>\n",
       "    </tr>\n",
       "  </tbody>\n",
       "</table>\n",
       "</div>"
      ],
      "text/plain": [
       "   gender race/ethnicity parental level of education         lunch  \\\n",
       "0  female        group B           bachelor's degree      standard   \n",
       "1  female        group C                some college      standard   \n",
       "2  female        group B             master's degree      standard   \n",
       "3    male        group A          associate's degree  free/reduced   \n",
       "4    male        group C                some college      standard   \n",
       "\n",
       "  test preparation course  math score  reading score  writing score  \n",
       "0                    none          72             72             74  \n",
       "1               completed          69             90             88  \n",
       "2                    none          90             95             93  \n",
       "3                    none          47             57             44  \n",
       "4                    none          76             78             75  "
      ]
     },
     "execution_count": 2,
     "metadata": {},
     "output_type": "execute_result"
    }
   ],
   "source": [
    "df = pd.read_csv(\"StudentsPerformance.csv\")\n",
    "df.head()"
   ]
  },
  {
   "cell_type": "code",
   "execution_count": 3,
   "metadata": {
    "slideshow": {
     "slide_type": "skip"
    }
   },
   "outputs": [],
   "source": [
    "df.rename(columns={\"race/ethnicity\":\"group\"} , inplace = True)"
   ]
  },
  {
   "cell_type": "markdown",
   "metadata": {
    "slideshow": {
     "slide_type": "slide"
    }
   },
   "source": [
    "# Analysis Question:\n",
    "1- Univariate analysis:\n",
    "\n",
    "- What's the percetnages of students of each group ?\n",
    "- Which level of parental education is most popular ?\n",
    "- What's the percentage of males and females in each group ?\n",
    "- What's the percentage of test preparation course\n",
    "\n",
    "2- Bivariate analysis :\n",
    "\n",
    "- What's the average of writing test score in each group ?\n",
    "- What's the average of reading test score in each group ?\n",
    "- What's the average of maths test score in each group ?\n",
    "- What's the relationship between reading scores and writing scores ?\n",
    "- What's the relationship between reading scores and maths scores ?\n",
    "- What's the relationship between maths scores and writing scores ?"
   ]
  },
  {
   "cell_type": "markdown",
   "metadata": {},
   "source": [
    "# First : Univariate analysis:\n"
   ]
  },
  {
   "cell_type": "markdown",
   "metadata": {
    "slideshow": {
     "slide_type": "slide"
    }
   },
   "source": [
    "1- What's the percetnages of students of each group ?"
   ]
  },
  {
   "cell_type": "code",
   "execution_count": 4,
   "metadata": {
    "slideshow": {
     "slide_type": "slide"
    }
   },
   "outputs": [
    {
     "data": {
      "text/plain": [
       "Text(0.5, 1.0, 'Students percentages of each group')"
      ]
     },
     "execution_count": 4,
     "metadata": {},
     "output_type": "execute_result"
    },
    {
     "data": {
      "image/png": "[encoded data removed]",
      "text/plain": [
       "<Figure size 432x288 with 1 Axes>"
      ]
     },
     "metadata": {},
     "output_type": "display_data"
    }
   ],
   "source": [
    "index = df.group.value_counts()\n",
    "labels = df.group.unique()\n",
    "\n",
    "plt.pie(x = index , labels = labels , counterclock = False , autopct = \"%.2f\" , wedgeprops = {'width' : 0.6});\n",
    "plt.title(\"Students percentages of each group\")"
   ]
  },
  {
   "cell_type": "markdown",
   "metadata": {
    "slideshow": {
     "slide_type": "slide"
    }
   },
   "source": [
    "# Conclusion \n",
    "As we saw, Group c contains 31.90% of students, Group D contains 26.20% of students, Group B contains 19% of students, Group E contains 14% of students and group A is the lowest group by 8.90% of students"
   ]
  },
  {
   "cell_type": "markdown",
   "metadata": {
    "slideshow": {
     "slide_type": "slide"
    }
   },
   "source": [
    "2- Which level of parental education is most popular ?\n"
   ]
  },
  {
   "cell_type": "code",
   "execution_count": 5,
   "metadata": {
    "slideshow": {
     "slide_type": "slide"
    }
   },
   "outputs": [
    {
     "data": {
      "text/plain": [
       "Text(0.5, 1.0, 'Populartiy of level of parental education')"
      ]
     },
     "execution_count": 5,
     "metadata": {},
     "output_type": "execute_result"
    },
    {
     "data": {
      "image/png": "[encoded data removed]",
      "text/plain": [
       "<Figure size 432x288 with 1 Axes>"
      ]
     },
     "metadata": {
      "needs_background": "light"
     },
     "output_type": "display_data"
    }
   ],
   "source": [
    "x= df[\"parental level of education\"].value_counts().index\n",
    "color = sns.color_palette()[0]\n",
    "\n",
    "sns.countplot(data = df , x = \"parental level of education\" ,color = color  , order  = x) \n",
    "plt.xticks(rotation =\"30\")\n",
    "plt.title(\"Populartiy of level of parental education\")"
   ]
  },
  {
   "cell_type": "markdown",
   "metadata": {
    "slideshow": {
     "slide_type": "slide"
    }
   },
   "source": [
    "# Conclusion\n",
    "Most of parent have educated in some college, then in the second place have associate's degree, then high school only, some high school , Less than 150 parents have bachelor's degree and less than 100 have master's degree."
   ]
  },
  {
   "cell_type": "markdown",
   "metadata": {
    "slideshow": {
     "slide_type": "slide"
    }
   },
   "source": [
    "3- What's the percentage of males and females in each group ?"
   ]
  },
  {
   "cell_type": "code",
   "execution_count": 6,
   "metadata": {
    "slideshow": {
     "slide_type": "skip"
    }
   },
   "outputs": [],
   "source": [
    "gA = df.query(\"group == 'group A'\")\n",
    "gB = df.query(\"group == 'group B'\")\n",
    "gC = df.query(\"group == 'group C'\")\n",
    "gD = df.query(\"group == 'group D'\")\n",
    "gE = df.query(\"group == 'group E'\")"
   ]
  },
  {
   "cell_type": "code",
   "execution_count": 7,
   "metadata": {
    "slideshow": {
     "slide_type": "slide"
    }
   },
   "outputs": [
    {
     "data": {
      "image/png": "[encoded data removed]",
      "text/plain": [
       "<Figure size 1800x1080 with 5 Axes>"
      ]
     },
     "metadata": {},
     "output_type": "display_data"
    }
   ],
   "source": [
    "plt.figure(figsize = [25,15]);\n",
    "\n",
    "plt.subplot(1, 5, 1)\n",
    "a = gA.gender.value_counts()\n",
    "plt.pie(a , labels = a.index , autopct = \"%.2f\");\n",
    "\n",
    "plt.subplot(1, 5, 2)\n",
    "b = gB.gender.value_counts()\n",
    "plt.pie(b , labels = b.index , autopct = \"%.2f\");\n",
    "\n",
    "plt.subplot(1, 5, 3)\n",
    "c = gC.gender.value_counts()\n",
    "plt.pie(c , labels = c.index , autopct = \"%.2f\");\n",
    "\n",
    "plt.subplot(1, 5, 4)\n",
    "d = gD.gender.value_counts()\n",
    "plt.pie(d , labels = d.index , autopct = \"%.2f\");\n",
    "\n",
    "plt.subplot(1, 5, 5)\n",
    "E = gE.gender.value_counts()\n",
    "plt.pie(E , labels = E.index , autopct = \"%.2f\");"
   ]
  },
  {
   "cell_type": "markdown",
   "metadata": {
    "slideshow": {
     "slide_type": "slide"
    }
   },
   "source": [
    "# Conclusion\n",
    "- Group A (males = 59.55 && females = 40.45)\n",
    "- Group B (males = 45.26 && females = 54.74)\n",
    "- Group C (males = 43.57 && females = 56.43)\n",
    "- Group D (males = 50.76 && females = 49.24)\n",
    "- Group E (males = 50.71 && females = 49.29)"
   ]
  },
  {
   "cell_type": "markdown",
   "metadata": {
    "slideshow": {
     "slide_type": "slide"
    }
   },
   "source": [
    "4- What's the percentage of test preparation course"
   ]
  },
  {
   "cell_type": "code",
   "execution_count": 8,
   "metadata": {
    "slideshow": {
     "slide_type": "slide"
    }
   },
   "outputs": [
    {
     "data": {
      "image/png": "[encoded data removed]",
      "text/plain": [
       "<Figure size 432x288 with 1 Axes>"
      ]
     },
     "metadata": {
      "needs_background": "light"
     },
     "output_type": "display_data"
    }
   ],
   "source": [
    "axes = df[\"test preparation course\"].value_counts().index\n",
    "\n",
    "sns.countplot(data = df , x = \"test preparation course\" , order = axes);"
   ]
  },
  {
   "cell_type": "markdown",
   "metadata": {
    "slideshow": {
     "slide_type": "slide"
    }
   },
   "source": [
    "# Conclusion \n",
    "completed tests for students are less than 400, and the higher percentage are more than 600 students"
   ]
  },
  {
   "cell_type": "markdown",
   "metadata": {
    "slideshow": {
     "slide_type": "slide"
    }
   },
   "source": [
    "# Second : Bivariate analysis\n",
    "\n",
    "# 1- What's the average of writing test score in each group ?"
   ]
  },
  {
   "cell_type": "code",
   "execution_count": 9,
   "metadata": {
    "scrolled": true,
    "slideshow": {
     "slide_type": "slide"
    }
   },
   "outputs": [
    {
     "data": {
      "text/plain": [
       "(0.0, 150.0)"
      ]
     },
     "execution_count": 9,
     "metadata": {},
     "output_type": "execute_result"
    },
    {
     "data": {
      "image/png": "[encoded data removed]",
      "text/plain": [
       "<Figure size 432x288 with 1 Axes>"
      ]
     },
     "metadata": {
      "needs_background": "light"
     },
     "output_type": "display_data"
    }
   ],
   "source": [
    "sns.boxplot(x = df[\"group\"] , y = df[\"writing score\"])\n",
    "plt.ylim(0,150)"
   ]
  },
  {
   "cell_type": "markdown",
   "metadata": {
    "slideshow": {
     "slide_type": "slide"
    }
   },
   "source": [
    "# Conclusion\n",
    "Each group has an average between (80 % 60) score in writing test"
   ]
  },
  {
   "cell_type": "markdown",
   "metadata": {
    "slideshow": {
     "slide_type": "slide"
    }
   },
   "source": [
    "# 2- What's the average of reading test score in each group ?"
   ]
  },
  {
   "cell_type": "code",
   "execution_count": 10,
   "metadata": {
    "slideshow": {
     "slide_type": "slide"
    }
   },
   "outputs": [
    {
     "data": {
      "text/plain": [
       "(0.0, 150.0)"
      ]
     },
     "execution_count": 10,
     "metadata": {},
     "output_type": "execute_result"
    },
    {
     "data": {
      "image/png": "[encoded data removed]",
      "text/plain": [
       "<Figure size 432x288 with 1 Axes>"
      ]
     },
     "metadata": {
      "needs_background": "light"
     },
     "output_type": "display_data"
    }
   ],
   "source": [
    "sns.boxplot(x = df[\"group\"] , y = df[\"reading score\"])\n",
    "plt.ylim(0,150)"
   ]
  },
  {
   "cell_type": "markdown",
   "metadata": {
    "slideshow": {
     "slide_type": "slide"
    }
   },
   "source": [
    "# Conclusion\n",
    "\n",
    "Each group has an average between (80 % 60) score in reading test"
   ]
  },
  {
   "cell_type": "markdown",
   "metadata": {
    "slideshow": {
     "slide_type": "slide"
    }
   },
   "source": [
    "# 3- What's the average of math test score in each group ?"
   ]
  },
  {
   "cell_type": "code",
   "execution_count": 11,
   "metadata": {
    "slideshow": {
     "slide_type": "slide"
    }
   },
   "outputs": [
    {
     "data": {
      "text/plain": [
       "(0.0, 150.0)"
      ]
     },
     "execution_count": 11,
     "metadata": {},
     "output_type": "execute_result"
    },
    {
     "data": {
      "image/png": "[encoded data removed]",
      "text/plain": [
       "<Figure size 432x288 with 1 Axes>"
      ]
     },
     "metadata": {
      "needs_background": "light"
     },
     "output_type": "display_data"
    }
   ],
   "source": [
    "sns.boxplot(x = df[\"group\"] , y = df[\"math score\"])\n",
    "plt.ylim(0,150)"
   ]
  },
  {
   "cell_type": "markdown",
   "metadata": {
    "slideshow": {
     "slide_type": "slide"
    }
   },
   "source": [
    "Conclusion\n",
    "\n",
    "Each group has an average between (80 % 60) score in maths test"
   ]
  },
  {
   "cell_type": "markdown",
   "metadata": {
    "slideshow": {
     "slide_type": "slide"
    }
   },
   "source": [
    "# 4- What's the relationship between reading scores and writing scores ?"
   ]
  },
  {
   "cell_type": "code",
   "execution_count": 12,
   "metadata": {
    "slideshow": {
     "slide_type": "slide"
    }
   },
   "outputs": [
    {
     "data": {
      "text/plain": [
       "Text(0.5, 1.0, 'Reading score vs Writing score')"
      ]
     },
     "execution_count": 12,
     "metadata": {},
     "output_type": "execute_result"
    },
    {
     "data": {
      "image/png": "[encoded data removed]",
      "text/plain": [
       "<Figure size 432x288 with 1 Axes>"
      ]
     },
     "metadata": {
      "needs_background": "light"
     },
     "output_type": "display_data"
    }
   ],
   "source": [
    "plt.scatter(x = df[\"reading score\"] , y = df[\"writing score\"])\n",
    "\n",
    "plt.xlabel('Reading score')\n",
    "plt.ylabel('Writing score')\n",
    "plt.title(\"Reading score vs Writing score\")"
   ]
  },
  {
   "cell_type": "markdown",
   "metadata": {
    "slideshow": {
     "slide_type": "slide"
    }
   },
   "source": [
    "# Conclusion:\n",
    "As we saw, There's very strong positive relationship between reading score and writing score, Correlation seems to equals 1"
   ]
  },
  {
   "cell_type": "markdown",
   "metadata": {
    "slideshow": {
     "slide_type": "slide"
    }
   },
   "source": [
    "# 5- What's the relationship between reading scores and math scores ?"
   ]
  },
  {
   "cell_type": "code",
   "execution_count": 13,
   "metadata": {
    "slideshow": {
     "slide_type": "slide"
    }
   },
   "outputs": [
    {
     "data": {
      "text/plain": [
       "Text(0.5, 1.0, 'Math score vs Reading score')"
      ]
     },
     "execution_count": 13,
     "metadata": {},
     "output_type": "execute_result"
    },
    {
     "data": {
      "image/png": "[encoded data removed]",
      "text/plain": [
       "<Figure size 432x288 with 1 Axes>"
      ]
     },
     "metadata": {
      "needs_background": "light"
     },
     "output_type": "display_data"
    }
   ],
   "source": [
    "plt.scatter(x = df[\"reading score\"] , y = df[\"math score\"])\n",
    "\n",
    "plt.xlabel('Math score')\n",
    "plt.ylabel('Reading score')\n",
    "plt.title(\"Math score vs Reading score\")"
   ]
  },
  {
   "cell_type": "markdown",
   "metadata": {
    "slideshow": {
     "slide_type": "slide"
    }
   },
   "source": [
    "# Conclusion:\n",
    "\n",
    "There's a strong positive relationship between reading score and writing score."
   ]
  },
  {
   "cell_type": "markdown",
   "metadata": {
    "slideshow": {
     "slide_type": "slide"
    }
   },
   "source": [
    "# 6- What's the relationship between writing scores and math scores ?"
   ]
  },
  {
   "cell_type": "code",
   "execution_count": 14,
   "metadata": {
    "slideshow": {
     "slide_type": "slide"
    }
   },
   "outputs": [
    {
     "data": {
      "text/plain": [
       "Text(0.5, 1.0, 'Math score vs Writing score')"
      ]
     },
     "execution_count": 14,
     "metadata": {},
     "output_type": "execute_result"
    },
    {
     "data": {
      "image/png": "[encoded data removed]",
      "text/plain": [
       "<Figure size 432x288 with 1 Axes>"
      ]
     },
     "metadata": {
      "needs_background": "light"
     },
     "output_type": "display_data"
    }
   ],
   "source": [
    "plt.scatter(x = df[\"math score\"] , y = df[\"writing score\"])\n",
    "\n",
    "plt.xlabel('Math score')\n",
    "plt.ylabel('Writing score')\n",
    "plt.title(\"Math score vs Writing score\")"
   ]
  },
  {
   "cell_type": "markdown",
   "metadata": {
    "slideshow": {
     "slide_type": "slide"
    }
   },
   "source": [
    "# Conclusion:\n",
    "\n",
    "There's a strong positive relationship between math score and writing score.\n"
   ]
  },
  {
   "cell_type": "markdown",
   "metadata": {
    "slideshow": {
     "slide_type": "slide"
    }
   },
   "source": [
    "# Total conclusion:\n",
    "\n",
    "1- Univariate analysis:\n",
    "\n",
    "- As we saw, Group c contains 31.90% of students, Group D contains 26.20% of students, Group B contains 19% of students, Group E contains 14% of students and group A is the lowest group by 8.90% of students\n",
    "\n",
    "\n",
    "- Most of parent have educated in some college, then in the second place have associate's degree, then high school only, some high school , Less than 150 parents have bachelor's degree and less than 100 have master's degree.\n",
    "\n",
    "\n",
    "- Group A (males = 59.55 && females = 40.45)\n",
    "- Group B (males = 45.26 && females = 54.74)\n",
    "- Group C (males = 43.57 && females = 56.43)\n",
    "- Group D (males = 50.76 && females = 49.24)\n",
    "- Group E (males = 50.71 && females = 49.29)\n",
    "\n",
    "- completed tests for students are less than 400, and the higher percentage are more than 600 students\n",
    "\n",
    "2- Bivariate analysis:\n",
    "\n",
    "- Each group has an average between (80 % 60) score in writing test, reading test and math test\n",
    "- As we saw, There's very strong positive relationship between reading score and writing score, Correlation seems to equals 1\n",
    "- There's a strong positive relationship between reading score and writing score.\n",
    "- There's a strong positive relationship between math score and writing score."
   ]
  },
  {
   "cell_type": "code",
   "execution_count": 3,
   "metadata": {},
   "outputs": [
    {
     "name": "stdout",
     "output_type": "stream",
     "text": [
      "Collecting package metadata (current_repodata.json): ...working... done\n",
      "\n",
      "Note: you may need to restart the kernel to use updated packages.\n",
      "Solving environment: ...working... done\n",
      "\n",
      "## Package Plan ##\n",
      "\n",
      "  environment location: C:\\Users\\ziad_\\anaconda3\n",
      "\n",
      "  added / updated specs:\n",
      "    - rise\n",
      "\n",
      "\n",
      "The following packages will be downloaded:\n",
      "\n",
      "    package                    |            build\n",
      "    ---------------------------|-----------------\n",
      "    conda-4.11.0               |   py38haa95532_0        14.4 MB\n",
      "    rise-5.7.1                 |   py38haa95532_0         1.7 MB\n",
      "    ------------------------------------------------------------\n",
      "                                           Total:        16.1 MB\n",
      "\n",
      "The following NEW packages will be INSTALLED:\n",
      "\n",
      "  rise               pkgs/main/win-64::rise-5.7.1-py38haa95532_0\n",
      "\n",
      "The following packages will be UPDATED:\n",
      "\n",
      "  conda                                        4.8.3-py38_0 --> 4.11.0-py38haa95532_0\n",
      "\n",
      "\n",
      "\n",
      "Downloading and Extracting Packages\n",
      "\n",
      "conda-4.11.0         | 14.4 MB   |            |   0% \n",
      "conda-4.11.0         | 14.4 MB   |            |   0% \n",
      "conda-4.11.0         | 14.4 MB   |            |   1% \n",
      "conda-4.11.0         | 14.4 MB   |            |   1% \n",
      "conda-4.11.0         | 14.4 MB   | 1          |   2% \n",
      "conda-4.11.0         | 14.4 MB   | 2          |   2% \n",
      "conda-4.11.0         | 14.4 MB   | 2          |   3% \n",
      "conda-4.11.0         | 14.4 MB   | 3          |   3% \n",
      "conda-4.11.0         | 14.4 MB   | 3          |   4% \n",
      "conda-4.11.0         | 14.4 MB   | 4          |   4% \n",
      "conda-4.11.0         | 14.4 MB   | 4          |   4% \n",
      "conda-4.11.0         | 14.4 MB   | 4          |   5% \n",
      "conda-4.11.0         | 14.4 MB   | 5          |   6% \n",
      "conda-4.11.0         | 14.4 MB   | 6          |   6% \n",
      "conda-4.11.0         | 14.4 MB   | 6          |   7% \n",
      "conda-4.11.0         | 14.4 MB   | 7          |   7% \n",
      "conda-4.11.0         | 14.4 MB   | 7          |   8% \n",
      "conda-4.11.0         | 14.4 MB   | 8          |   8% \n",
      "conda-4.11.0         | 14.4 MB   | 8          |   9% \n",
      "conda-4.11.0         | 14.4 MB   | 9          |   9% \n",
      "conda-4.11.0         | 14.4 MB   | 9          |  10% \n",
      "conda-4.11.0         | 14.4 MB   | #          |  10% \n",
      "conda-4.11.0         | 14.4 MB   | #          |  11% \n",
      "conda-4.11.0         | 14.4 MB   | #1         |  11% \n",
      "conda-4.11.0         | 14.4 MB   | #2         |  12% \n",
      "conda-4.11.0         | 14.4 MB   | #2         |  13% \n",
      "conda-4.11.0         | 14.4 MB   | #3         |  13% \n",
      "conda-4.11.0         | 14.4 MB   | #3         |  14% \n",
      "conda-4.11.0         | 14.4 MB   | #4         |  14% \n",
      "conda-4.11.0         | 14.4 MB   | #4         |  15% \n",
      "conda-4.11.0         | 14.4 MB   | #5         |  15% \n",
      "conda-4.11.0         | 14.4 MB   | #5         |  16% \n",
      "conda-4.11.0         | 14.4 MB   | #6         |  16% \n",
      "conda-4.11.0         | 14.4 MB   | #6         |  17% \n",
      "conda-4.11.0         | 14.4 MB   | #7         |  17% \n",
      "conda-4.11.0         | 14.4 MB   | #7         |  18% \n",
      "conda-4.11.0         | 14.4 MB   | #8         |  19% \n",
      "conda-4.11.0         | 14.4 MB   | #9         |  19% \n",
      "conda-4.11.0         | 14.4 MB   | #9         |  20% \n",
      "conda-4.11.0         | 14.4 MB   | ##         |  20% \n",
      "conda-4.11.0         | 14.4 MB   | ##         |  21% \n",
      "conda-4.11.0         | 14.4 MB   | ##1        |  21% \n",
      "conda-4.11.0         | 14.4 MB   | ##1        |  22% \n",
      "conda-4.11.0         | 14.4 MB   | ##2        |  22% \n",
      "conda-4.11.0         | 14.4 MB   | ##2        |  23% \n",
      "conda-4.11.0         | 14.4 MB   | ##3        |  23% \n",
      "conda-4.11.0         | 14.4 MB   | ##3        |  24% \n",
      "conda-4.11.0         | 14.4 MB   | ##4        |  24% \n",
      "conda-4.11.0         | 14.4 MB   | ##4        |  25% \n",
      "conda-4.11.0         | 14.4 MB   | ##5        |  25% \n",
      "conda-4.11.0         | 14.4 MB   | ##5        |  26% \n",
      "conda-4.11.0         | 14.4 MB   | ##6        |  26% \n",
      "conda-4.11.0         | 14.4 MB   | ##6        |  27% \n",
      "conda-4.11.0         | 14.4 MB   | ##7        |  27% \n",
      "conda-4.11.0         | 14.4 MB   | ##7        |  28% \n",
      "conda-4.11.0         | 14.4 MB   | ##8        |  28% \n",
      "conda-4.11.0         | 14.4 MB   | ##8        |  29% \n",
      "conda-4.11.0         | 14.4 MB   | ##9        |  29% \n",
      "conda-4.11.0         | 14.4 MB   | ##9        |  30% \n",
      "conda-4.11.0         | 14.4 MB   | ###        |  31% \n",
      "conda-4.11.0         | 14.4 MB   | ###1       |  31% \n",
      "conda-4.11.0         | 14.4 MB   | ###1       |  32% \n",
      "conda-4.11.0         | 14.4 MB   | ###2       |  32% \n",
      "conda-4.11.0         | 14.4 MB   | ###2       |  33% \n",
      "conda-4.11.0         | 14.4 MB   | ###3       |  33% \n",
      "conda-4.11.0         | 14.4 MB   | ###3       |  34% \n",
      "conda-4.11.0         | 14.4 MB   | ###4       |  34% \n",
      "conda-4.11.0         | 14.4 MB   | ###4       |  35% \n",
      "conda-4.11.0         | 14.4 MB   | ###5       |  35% \n",
      "conda-4.11.0         | 14.4 MB   | ###5       |  36% \n",
      "conda-4.11.0         | 14.4 MB   | ###6       |  36% \n",
      "conda-4.11.0         | 14.4 MB   | ###7       |  37% \n",
      "conda-4.11.0         | 14.4 MB   | ###7       |  38% \n",
      "conda-4.11.0         | 14.4 MB   | ###8       |  38% \n",
      "conda-4.11.0         | 14.4 MB   | ###8       |  39% \n",
      "conda-4.11.0         | 14.4 MB   | ###8       |  39% \n",
      "conda-4.11.0         | 14.4 MB   | ###9       |  39% \n",
      "conda-4.11.0         | 14.4 MB   | ###9       |  40% \n",
      "conda-4.11.0         | 14.4 MB   | ####       |  40% \n",
      "conda-4.11.0         | 14.4 MB   | ####       |  41% \n",
      "conda-4.11.0         | 14.4 MB   | ####1      |  41% \n",
      "conda-4.11.0         | 14.4 MB   | ####1      |  42% \n",
      "conda-4.11.0         | 14.4 MB   | ####2      |  42% \n",
      "conda-4.11.0         | 14.4 MB   | ####2      |  43% \n",
      "conda-4.11.0         | 14.4 MB   | ####3      |  43% \n",
      "conda-4.11.0         | 14.4 MB   | ####3      |  44% \n",
      "conda-4.11.0         | 14.4 MB   | ####4      |  44% \n",
      "conda-4.11.0         | 14.4 MB   | ####4      |  45% \n",
      "conda-4.11.0         | 14.4 MB   | ####5      |  45% \n",
      "conda-4.11.0         | 14.4 MB   | ####5      |  46% \n",
      "conda-4.11.0         | 14.4 MB   | ####6      |  46% \n",
      "conda-4.11.0         | 14.4 MB   | ####6      |  47% \n",
      "conda-4.11.0         | 14.4 MB   | ####7      |  47% \n",
      "conda-4.11.0         | 14.4 MB   | ####7      |  48% \n",
      "conda-4.11.0         | 14.4 MB   | ####8      |  48% \n",
      "conda-4.11.0         | 14.4 MB   | ####8      |  49% \n",
      "conda-4.11.0         | 14.4 MB   | ####9      |  49% \n",
      "conda-4.11.0         | 14.4 MB   | ####9      |  50% \n",
      "conda-4.11.0         | 14.4 MB   | #####      |  50% \n",
      "conda-4.11.0         | 14.4 MB   | #####      |  51% \n",
      "conda-4.11.0         | 14.4 MB   | #####1     |  51% \n",
      "conda-4.11.0         | 14.4 MB   | #####1     |  52% \n",
      "conda-4.11.0         | 14.4 MB   | #####2     |  52% \n",
      "conda-4.11.0         | 14.4 MB   | #####2     |  53% \n",
      "conda-4.11.0         | 14.4 MB   | #####3     |  53% \n",
      "conda-4.11.0         | 14.4 MB   | #####3     |  54% \n",
      "conda-4.11.0         | 14.4 MB   | #####4     |  54% \n",
      "conda-4.11.0         | 14.4 MB   | #####4     |  55% \n",
      "conda-4.11.0         | 14.4 MB   | #####5     |  56% \n",
      "conda-4.11.0         | 14.4 MB   | #####6     |  56% \n",
      "conda-4.11.0         | 14.4 MB   | #####6     |  57% \n",
      "conda-4.11.0         | 14.4 MB   | #####7     |  57% \n",
      "conda-4.11.0         | 14.4 MB   | #####7     |  58% \n",
      "conda-4.11.0         | 14.4 MB   | #####8     |  58% \n",
      "conda-4.11.0         | 14.4 MB   | #####8     |  59% \n",
      "conda-4.11.0         | 14.4 MB   | #####9     |  59% \n",
      "conda-4.11.0         | 14.4 MB   | #####9     |  60% \n",
      "conda-4.11.0         | 14.4 MB   | ######     |  60% \n",
      "conda-4.11.0         | 14.4 MB   | ######     |  61% \n",
      "conda-4.11.0         | 14.4 MB   | ######1    |  61% \n",
      "conda-4.11.0         | 14.4 MB   | ######1    |  62% \n",
      "conda-4.11.0         | 14.4 MB   | ######2    |  63% \n",
      "conda-4.11.0         | 14.4 MB   | ######3    |  63% \n",
      "conda-4.11.0         | 14.4 MB   | ######3    |  64% \n",
      "conda-4.11.0         | 14.4 MB   | ######4    |  64% \n",
      "conda-4.11.0         | 14.4 MB   | ######4    |  65% \n",
      "conda-4.11.0         | 14.4 MB   | ######5    |  65% \n",
      "conda-4.11.0         | 14.4 MB   | ######5    |  66% \n",
      "conda-4.11.0         | 14.4 MB   | ######6    |  66% \n",
      "conda-4.11.0         | 14.4 MB   | ######6    |  67% \n",
      "conda-4.11.0         | 14.4 MB   | ######7    |  67% \n",
      "conda-4.11.0         | 14.4 MB   | ######7    |  68% \n",
      "conda-4.11.0         | 14.4 MB   | ######8    |  68% \n",
      "conda-4.11.0         | 14.4 MB   | ######9    |  69% \n",
      "conda-4.11.0         | 14.4 MB   | ######9    |  70% \n",
      "conda-4.11.0         | 14.4 MB   | #######    |  70% \n",
      "conda-4.11.0         | 14.4 MB   | #######    |  71% \n",
      "conda-4.11.0         | 14.4 MB   | #######1   |  71% \n",
      "conda-4.11.0         | 14.4 MB   | #######1   |  72% \n",
      "conda-4.11.0         | 14.4 MB   | #######2   |  72% \n",
      "conda-4.11.0         | 14.4 MB   | #######2   |  73% \n",
      "conda-4.11.0         | 14.4 MB   | #######3   |  73% \n",
      "conda-4.11.0         | 14.4 MB   | #######3   |  74% \n",
      "conda-4.11.0         | 14.4 MB   | #######4   |  74% \n",
      "conda-4.11.0         | 14.4 MB   | #######4   |  74% \n",
      "conda-4.11.0         | 14.4 MB   | #######4   |  75% \n",
      "conda-4.11.0         | 14.4 MB   | #######5   |  76% \n",
      "conda-4.11.0         | 14.4 MB   | #######6   |  76% \n",
      "conda-4.11.0         | 14.4 MB   | #######6   |  77% \n",
      "conda-4.11.0         | 14.4 MB   | #######7   |  77% \n",
      "conda-4.11.0         | 14.4 MB   | #######7   |  78% \n",
      "conda-4.11.0         | 14.4 MB   | #######8   |  78% \n",
      "conda-4.11.0         | 14.4 MB   | #######8   |  79% \n",
      "conda-4.11.0         | 14.4 MB   | #######9   |  79% \n",
      "conda-4.11.0         | 14.4 MB   | #######9   |  80% \n",
      "conda-4.11.0         | 14.4 MB   | ########   |  80% \n",
      "conda-4.11.0         | 14.4 MB   | ########   |  81% \n",
      "conda-4.11.0         | 14.4 MB   | ########1  |  81% \n",
      "conda-4.11.0         | 14.4 MB   | ########1  |  82% \n",
      "conda-4.11.0         | 14.4 MB   | ########2  |  82% \n",
      "conda-4.11.0         | 14.4 MB   | ########2  |  83% \n",
      "conda-4.11.0         | 14.4 MB   | ########3  |  83% \n",
      "conda-4.11.0         | 14.4 MB   | ########3  |  84% \n",
      "conda-4.11.0         | 14.4 MB   | ########3  |  84% \n",
      "conda-4.11.0         | 14.4 MB   | ########4  |  84% \n",
      "conda-4.11.0         | 14.4 MB   | ########4  |  85% \n",
      "conda-4.11.0         | 14.4 MB   | ########5  |  85% \n",
      "conda-4.11.0         | 14.4 MB   | ########5  |  86% \n",
      "conda-4.11.0         | 14.4 MB   | ########6  |  86% \n",
      "conda-4.11.0         | 14.4 MB   | ########6  |  87% \n",
      "conda-4.11.0         | 14.4 MB   | ########7  |  87% \n",
      "conda-4.11.0         | 14.4 MB   | ########7  |  88% \n",
      "conda-4.11.0         | 14.4 MB   | ########8  |  88% \n",
      "conda-4.11.0         | 14.4 MB   | ########8  |  89% \n",
      "conda-4.11.0         | 14.4 MB   | ########9  |  89% \n",
      "conda-4.11.0         | 14.4 MB   | ########9  |  90% \n",
      "conda-4.11.0         | 14.4 MB   | #########  |  90% \n",
      "conda-4.11.0         | 14.4 MB   | #########  |  90% \n",
      "conda-4.11.0         | 14.4 MB   | #########  |  91% \n",
      "conda-4.11.0         | 14.4 MB   | #########1 |  92% \n",
      "conda-4.11.0         | 14.4 MB   | #########2 |  92% \n",
      "conda-4.11.0         | 14.4 MB   | #########2 |  93% \n",
      "conda-4.11.0         | 14.4 MB   | #########3 |  93% \n",
      "conda-4.11.0         | 14.4 MB   | #########3 |  94% \n",
      "conda-4.11.0         | 14.4 MB   | #########4 |  94% \n",
      "conda-4.11.0         | 14.4 MB   | #########4 |  95% \n",
      "conda-4.11.0         | 14.4 MB   | #########5 |  95% \n",
      "conda-4.11.0         | 14.4 MB   | #########5 |  96% \n",
      "conda-4.11.0         | 14.4 MB   | #########6 |  96% \n",
      "conda-4.11.0         | 14.4 MB   | #########6 |  97% \n",
      "conda-4.11.0         | 14.4 MB   | #########7 |  97% \n",
      "conda-4.11.0         | 14.4 MB   | #########8 |  98% \n",
      "conda-4.11.0         | 14.4 MB   | #########8 |  99% \n",
      "conda-4.11.0         | 14.4 MB   | #########9 |  99% \n",
      "conda-4.11.0         | 14.4 MB   | #########9 | 100% \n",
      "conda-4.11.0         | 14.4 MB   | ########## | 100% \n",
      "\n",
      "rise-5.7.1           | 1.7 MB    |            |   0% \n",
      "rise-5.7.1           | 1.7 MB    |            |   1% \n",
      "rise-5.7.1           | 1.7 MB    | 5          |   6% \n",
      "rise-5.7.1           | 1.7 MB    | 9          |   9% \n",
      "rise-5.7.1           | 1.7 MB    | #4         |  14% \n",
      "rise-5.7.1           | 1.7 MB    | #8         |  19% \n",
      "rise-5.7.1           | 1.7 MB    | ##2        |  22% \n",
      "rise-5.7.1           | 1.7 MB    | ##6        |  26% \n",
      "rise-5.7.1           | 1.7 MB    | ##9        |  30% \n",
      "rise-5.7.1           | 1.7 MB    | ###3       |  34% \n",
      "rise-5.7.1           | 1.7 MB    | ###8       |  38% \n",
      "rise-5.7.1           | 1.7 MB    | ####2      |  42% \n",
      "rise-5.7.1           | 1.7 MB    | ####5      |  46% \n",
      "rise-5.7.1           | 1.7 MB    | ####9      |  50% \n",
      "rise-5.7.1           | 1.7 MB    | #####4     |  54% \n",
      "rise-5.7.1           | 1.7 MB    | #####8     |  58% \n",
      "rise-5.7.1           | 1.7 MB    | ######1    |  62% \n",
      "rise-5.7.1           | 1.7 MB    | ######6    |  66% \n",
      "rise-5.7.1           | 1.7 MB    | #######1   |  71% \n",
      "rise-5.7.1           | 1.7 MB    | #######5   |  76% \n",
      "rise-5.7.1           | 1.7 MB    | ########   |  80% \n",
      "rise-5.7.1           | 1.7 MB    | ########5  |  85% \n",
      "rise-5.7.1           | 1.7 MB    | ########9  |  90% \n",
      "rise-5.7.1           | 1.7 MB    | #########4 |  94% \n",
      "rise-5.7.1           | 1.7 MB    | #########9 |  99% \n",
      "rise-5.7.1           | 1.7 MB    | ########## | 100% \n",
      "Preparing transaction: ...working... done\n",
      "Verifying transaction: ...working... done\n",
      "Executing transaction: ...working... done\n"
     ]
    }
   ],
   "source": [
    "conda install -c damianavila82 rise"
   ]
  },
  {
   "cell_type": "code",
   "execution_count": null,
   "metadata": {},
   "outputs": [],
   "source": [
    "pip install RISE"
   ]
  }
 ],
 "metadata": {
  "celltoolbar": "Slideshow",
  "kernelspec": {
   "display_name": "Python 3",
   "language": "python",
   "name": "python3"
  },
  "language_info": {
   "codemirror_mode": {
    "name": "ipython",
    "version": 3
   },
   "file_extension": ".py",
   "mimetype": "text/x-python",
   "name": "python",
   "nbconvert_exporter": "python",
   "pygments_lexer": "ipython3",
   "version": "3.8.3"
  }
 },
 "nbformat": 4,
 "nbformat_minor": 4
}
